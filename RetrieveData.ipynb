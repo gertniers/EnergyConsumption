{
 "cells": [
  {
   "cell_type": "code",
   "execution_count": 7,
   "metadata": {},
   "outputs": [],
   "source": [
    "import pandas as pd\n",
    "import mysql.connector\n",
    "import numpy as np\n",
    "#import altair as alt\n",
    "#from altair_saver import save # to save the altair graphs\n",
    "#import selenium # to save the altair graphs\n",
    "import os\n",
    "import dropbox\n",
    "#import knmi_gn_001 # get daily data from knmi\n",
    "from datetime import date\n",
    "from datetime import datetime, timedelta"
   ]
  },
  {
   "cell_type": "code",
   "execution_count": 8,
   "metadata": {},
   "outputs": [],
   "source": [
    "def readsettings():\n",
    "    # Read generic settings\n",
    "    path = os.getcwd()\n",
    "    path = \"/home/pi/settings_GN\"\n",
    "    TOKENS = path+'/GN_values.txt'\n",
    "    token_file = open(TOKENS)\n",
    "    gn_user,gn_pw,gn_host,gn_dbase,gn_drpbx = token_file.read().split('|')\n",
    "    token_file.close()\n",
    "    a = {'user': gn_user,\n",
    "         'pw': gn_pw,\n",
    "         'host': gn_host,\n",
    "         'dbase': gn_dbase,\n",
    "         'drpbox': gn_drpbx}\n",
    "#     return(gn_user,gn_pw,gn_host,gn_dbase,gn_drpbx)\n",
    "    return(a)\n"
   ]
  },
  {
   "cell_type": "code",
   "execution_count": 9,
   "metadata": {},
   "outputs": [],
   "source": [
    "class MinuteData:\n",
    "    \n",
    "    def __init__(self,name_str,dbase_str,fulldbretrieval):\n",
    "            self.varname = name_str\n",
    "            self.fname = 'readings_'+ name_str +'.csv'\n",
    "            self.dbase_str = 'select * from ' + dbase_str\n",
    "            self.fullretrieval = fulldbretrieval\n",
    "    \n",
    "    def readdata(self,gn_user,gn_pw,gn_host,gn_dbase):\n",
    "        if not self.fullretrieval :\n",
    "            try:\n",
    "                print(\"read the csv file \",self.fname)\n",
    "                dm=pd.read_csv(self.fname,\n",
    "                                   parse_dates=['datetime'],\n",
    "                                   index_col = ['datetime'])\n",
    "                a=max(dm.index)\n",
    "                sql_select_Query=self.dbase_str + \" WHERE time >'\" + str(a) + \"'\"\n",
    "                print(self.fname,\"_\",sql_select_Query)\n",
    "            except:\n",
    "                print(\"File not found, full database download starts now\")\n",
    "                sql_select_Query = self.dbase_str\n",
    "                self.fullretrieval = True\n",
    "        else:\n",
    "            # Retrieve the rest from mysql database:\n",
    "            print(\"retrieve database\")\n",
    "            sql_select_Query = self.dbase_str\n",
    "            \n",
    "        # retrieve data from MySQL database\n",
    "        cnx = mysql.connector.connect(user=gn_user, password=gn_pw,\n",
    "                                  host=gn_host,database=gn_dbase)\n",
    "        cursor = cnx.cursor()\n",
    "        cursor.execute(sql_select_Query)\n",
    "        mysql_df = pd.DataFrame(cursor.fetchall())\n",
    "        cnx.close()\n",
    "        # format sql data frame\n",
    "        #\n",
    "        # Error if no update values available, TO DO\n",
    "        mysql_df.columns = ['datetime', \"counter\"]\n",
    "        mysql_df['datetime'] = pd.to_datetime(mysql_df['datetime'])\n",
    "        mysql_df['variable'] = self.varname\n",
    "        mysql_df = mysql_df.set_index('datetime')\n",
    "    \n",
    "        # concatenate readings from file & readings from database\n",
    "        if not self.fullretrieval:\n",
    "            rawdata_export = pd.concat([dm,mysql_df],sort=True)\n",
    "        else:\n",
    "            rawdata_export = mysql_df    \n",
    "        # export to file\n",
    "        dowrite = rawdata_export.to_csv(self.fname)\n",
    "        print(\"Updated values exported to file :\",self.fname)\n",
    "        # difference for each timestamp wrt previous one\n",
    "        rawdata_export['delta']=rawdata_export['counter'].diff()\n",
    "    \n",
    "        return(rawdata_export)"
   ]
  },
  {
   "cell_type": "code",
   "execution_count": 10,
   "metadata": {},
   "outputs": [],
   "source": [
    "def removeIncomplete(df):\n",
    "    df['datum'] = df.index.date\n",
    "    lastday = df['datum'][df.index[-1]]\n",
    "    print(\"laatste datapunt in deze set is : \",lastday)\n",
    "    df_day = df[['delta']].resample('d').count().sort_values('delta')\n",
    "    print(\"Nr dagen raw Temperature readings : \", len(df_day))\n",
    "\n",
    "    treshold = 0.9 * 24 * 60 \n",
    "    \n",
    "    df_day = df_day[df_day['delta']>=treshold]\n",
    "    daystokeep = df_day.index.date \n",
    "    # keep to day, but do not add it when it is already there\n",
    "    daystokeep = set(np.append(daystokeep,lastday))\n",
    "\n",
    "    print(\"Nr days too less datapoints : \", len(set(df['datum']))-len(daystokeep))\n",
    "    print(\"Nr days remaining : \", len(daystokeep))\n",
    "\n",
    "    print(\"Nr of datapoints before removal of days : \", len(df))\n",
    "    excluded = len(df[~df['datum'].isin(daystokeep)])\n",
    "    print(\"Nr of datapoints before removed  : \", excluded)\n",
    "    df = df[df['datum'].isin(daystokeep)]\n",
    "    print(\"Nr of datapoints remaining : \",len(df), \" Equal to : \",round(len(df)/24/60,0), \"days\")\n",
    "    return(df)\n"
   ]
  },
  {
   "cell_type": "code",
   "execution_count": 11,
   "metadata": {},
   "outputs": [],
   "source": [
    "def clean_up_gas(df):\n",
    "    # Gas readings blijken niet altijd even goed te zijn, af en toe zelfs een factor 10 te hoog. \n",
    "    # neem de mediaan van de laaste 20 absolute  gegevens en gebruik dat om hogere waarden weg te laten\n",
    "    df.loc[df['counter']>df[-20:]['counter'].median(),'counter']=np.nan\n",
    "    df['counter'] = df['counter'].fillna(method='ffill')\n",
    "    df['delta']=df['counter'].diff()\n",
    "    # huge stepchanges (delta) in gas\n",
    "    hugestepdates = df.loc[df['delta'].abs()>1].index.date\n",
    "    # verwijder de datapunten van de dagen met de grootste stap\n",
    "    # df.loc[~df.g.isin(hugestepdates)]\n",
    "    print(\"nr dagen met grote stappen in verbruik : \",len(set(hugestepdates)))\n",
    "    df['datum'] = df.index.date\n",
    "    print(\"nr dagen ruwe data : \",len(set(df['datum'])))\n",
    "    df = df[~df['datum'].isin(hugestepdates)]\n",
    "    print(\"nr dagen na verwijdering : \",len(set(df['datum'])))\n",
    "    # Remove the individual datapoints with delta > treshold \n",
    "    # Remaining items with huge step in gasconsumption, that still can exists as earlier data points might not be available.\n",
    "    #df[df['delta'].abs()>1]\n",
    "    return(df)"
   ]
  },
  {
   "cell_type": "code",
   "execution_count": 6,
   "metadata": {},
   "outputs": [
    {
     "ename": "FileNotFoundError",
     "evalue": "[Errno 2] No such file or directory: '/home/pi/settings_GN/GN_values.txt'",
     "output_type": "error",
     "traceback": [
      "\u001b[0;31m---------------------------------------------------------------------------\u001b[0m",
      "\u001b[0;31mFileNotFoundError\u001b[0m                         Traceback (most recent call last)",
      "\u001b[0;32m/tmp/ipykernel_5615/1363507771.py\u001b[0m in \u001b[0;36m<module>\u001b[0;34m\u001b[0m\n\u001b[1;32m      1\u001b[0m \u001b[0;32mif\u001b[0m \u001b[0m__name__\u001b[0m \u001b[0;34m==\u001b[0m \u001b[0;34m\"__main__\"\u001b[0m\u001b[0;34m:\u001b[0m\u001b[0;34m\u001b[0m\u001b[0;34m\u001b[0m\u001b[0m\n\u001b[0;32m----> 2\u001b[0;31m     \u001b[0mgn_user\u001b[0m\u001b[0;34m,\u001b[0m\u001b[0mgn_pw\u001b[0m\u001b[0;34m,\u001b[0m\u001b[0mgn_host\u001b[0m\u001b[0;34m,\u001b[0m\u001b[0mgn_dbase\u001b[0m\u001b[0;34m,\u001b[0m\u001b[0mgn_drpbx\u001b[0m \u001b[0;34m=\u001b[0m \u001b[0mreadsettings\u001b[0m\u001b[0;34m(\u001b[0m\u001b[0;34m)\u001b[0m\u001b[0;34m\u001b[0m\u001b[0;34m\u001b[0m\u001b[0m\n\u001b[0m\u001b[1;32m      3\u001b[0m     \u001b[0mgas\u001b[0m \u001b[0;34m=\u001b[0m \u001b[0mMinuteData\u001b[0m\u001b[0;34m(\u001b[0m\u001b[0;34m'gas'\u001b[0m\u001b[0;34m,\u001b[0m\u001b[0;34m'item0054'\u001b[0m\u001b[0;34m,\u001b[0m\u001b[0;32mFalse\u001b[0m\u001b[0;34m)\u001b[0m\u001b[0;34m\u001b[0m\u001b[0;34m\u001b[0m\u001b[0m\n\u001b[1;32m      4\u001b[0m \u001b[0;34m\u001b[0m\u001b[0m\n\u001b[1;32m      5\u001b[0m     \u001b[0mdf_g\u001b[0m \u001b[0;34m=\u001b[0m \u001b[0mMinuteData\u001b[0m\u001b[0;34m.\u001b[0m\u001b[0mreaddata\u001b[0m\u001b[0;34m(\u001b[0m\u001b[0mgas\u001b[0m\u001b[0;34m,\u001b[0m\u001b[0mgn_user\u001b[0m\u001b[0;34m,\u001b[0m\u001b[0mgn_pw\u001b[0m\u001b[0;34m,\u001b[0m\u001b[0mgn_host\u001b[0m\u001b[0;34m,\u001b[0m\u001b[0mgn_dbase\u001b[0m\u001b[0;34m)\u001b[0m\u001b[0;34m\u001b[0m\u001b[0;34m\u001b[0m\u001b[0m\n",
      "\u001b[0;32m/tmp/ipykernel_5615/4251134598.py\u001b[0m in \u001b[0;36mreadsettings\u001b[0;34m()\u001b[0m\n\u001b[1;32m      4\u001b[0m     \u001b[0mpath\u001b[0m \u001b[0;34m=\u001b[0m \u001b[0;34m\"/home/pi/settings_GN\"\u001b[0m\u001b[0;34m\u001b[0m\u001b[0;34m\u001b[0m\u001b[0m\n\u001b[1;32m      5\u001b[0m     \u001b[0mTOKENS\u001b[0m \u001b[0;34m=\u001b[0m \u001b[0mpath\u001b[0m\u001b[0;34m+\u001b[0m\u001b[0;34m'/GN_values.txt'\u001b[0m\u001b[0;34m\u001b[0m\u001b[0;34m\u001b[0m\u001b[0m\n\u001b[0;32m----> 6\u001b[0;31m     \u001b[0mtoken_file\u001b[0m \u001b[0;34m=\u001b[0m \u001b[0mopen\u001b[0m\u001b[0;34m(\u001b[0m\u001b[0mTOKENS\u001b[0m\u001b[0;34m)\u001b[0m\u001b[0;34m\u001b[0m\u001b[0;34m\u001b[0m\u001b[0m\n\u001b[0m\u001b[1;32m      7\u001b[0m     \u001b[0mgn_user\u001b[0m\u001b[0;34m,\u001b[0m\u001b[0mgn_pw\u001b[0m\u001b[0;34m,\u001b[0m\u001b[0mgn_host\u001b[0m\u001b[0;34m,\u001b[0m\u001b[0mgn_dbase\u001b[0m\u001b[0;34m,\u001b[0m\u001b[0mgn_drpbx\u001b[0m \u001b[0;34m=\u001b[0m \u001b[0mtoken_file\u001b[0m\u001b[0;34m.\u001b[0m\u001b[0mread\u001b[0m\u001b[0;34m(\u001b[0m\u001b[0;34m)\u001b[0m\u001b[0;34m.\u001b[0m\u001b[0msplit\u001b[0m\u001b[0;34m(\u001b[0m\u001b[0;34m'|'\u001b[0m\u001b[0;34m)\u001b[0m\u001b[0;34m\u001b[0m\u001b[0;34m\u001b[0m\u001b[0m\n\u001b[1;32m      8\u001b[0m     \u001b[0mtoken_file\u001b[0m\u001b[0;34m.\u001b[0m\u001b[0mclose\u001b[0m\u001b[0;34m(\u001b[0m\u001b[0;34m)\u001b[0m\u001b[0;34m\u001b[0m\u001b[0;34m\u001b[0m\u001b[0m\n",
      "\u001b[0;31mFileNotFoundError\u001b[0m: [Errno 2] No such file or directory: '/home/pi/settings_GN/GN_values.txt'"
     ]
    }
   ],
   "source": [
    "if __name__ == \"__main__\":\n",
    "    gn_user,gn_pw,gn_host,gn_dbase,gn_drpbx = readsettings()\n",
    "    gas = MinuteData('gas','item0054',False)\n",
    "    \n",
    "    df_g = MinuteData.readdata(gas,gn_user,gn_pw,gn_host,gn_dbase)"
   ]
  },
  {
   "cell_type": "code",
   "execution_count": 29,
   "metadata": {},
   "outputs": [],
   "source": [
    "# huh = readsettings()\n",
    "# a = '2020-12-28 00:00:00'\n",
    "# sql_select_Query = \"select * from item0054 \" + \"WHERE time > '\" + str(a) + \"'\"\n",
    "# cnx = mysql.connector.connect(user=huh['user'], password=huh['pw'],\n",
    "#                               host=huh['host'],database=huh['dbase'])\n",
    "# cursor = cnx.cursor()\n",
    "# cursor.execute(sql_select_Query)\n",
    "# mysql_df = pd.DataFrame(cursor.fetchall())\n",
    "# cnx.close()\n",
    "# # format sql data frame\n",
    "# #\n",
    "# # Error if no update values available, TO DO\n",
    "# mysql_df.columns = ['datetime', \"counter\"]\n",
    "# mysql_df['datetime'] = pd.to_datetime(mysql_df['datetime'])\n",
    "# # mysql_df['variable'] = self.varname\n",
    "# mysql_df = mysql_df.set_index('datetime')"
   ]
  },
  {
   "cell_type": "code",
   "execution_count": 33,
   "metadata": {},
   "outputs": [
    {
     "data": {
      "text/html": [
       "<div>\n",
       "<style scoped>\n",
       "    .dataframe tbody tr th:only-of-type {\n",
       "        vertical-align: middle;\n",
       "    }\n",
       "\n",
       "    .dataframe tbody tr th {\n",
       "        vertical-align: top;\n",
       "    }\n",
       "\n",
       "    .dataframe thead th {\n",
       "        text-align: right;\n",
       "    }\n",
       "</style>\n",
       "<table border=\"1\" class=\"dataframe\">\n",
       "  <thead>\n",
       "    <tr style=\"text-align: right;\">\n",
       "      <th></th>\n",
       "      <th>counter</th>\n",
       "    </tr>\n",
       "  </thead>\n",
       "  <tbody>\n",
       "    <tr>\n",
       "      <th>count</th>\n",
       "      <td>2579.000000</td>\n",
       "    </tr>\n",
       "    <tr>\n",
       "      <th>mean</th>\n",
       "      <td>3310.747423</td>\n",
       "    </tr>\n",
       "    <tr>\n",
       "      <th>std</th>\n",
       "      <td>5.344430</td>\n",
       "    </tr>\n",
       "    <tr>\n",
       "      <th>min</th>\n",
       "      <td>3302.892000</td>\n",
       "    </tr>\n",
       "    <tr>\n",
       "      <th>25%</th>\n",
       "      <td>3306.123000</td>\n",
       "    </tr>\n",
       "    <tr>\n",
       "      <th>50%</th>\n",
       "      <td>3312.281000</td>\n",
       "    </tr>\n",
       "    <tr>\n",
       "      <th>75%</th>\n",
       "      <td>3313.952000</td>\n",
       "    </tr>\n",
       "    <tr>\n",
       "      <th>max</th>\n",
       "      <td>3320.182000</td>\n",
       "    </tr>\n",
       "  </tbody>\n",
       "</table>\n",
       "</div>"
      ],
      "text/plain": [
       "           counter\n",
       "count  2579.000000\n",
       "mean   3310.747423\n",
       "std       5.344430\n",
       "min    3302.892000\n",
       "25%    3306.123000\n",
       "50%    3312.281000\n",
       "75%    3313.952000\n",
       "max    3320.182000"
      ]
     },
     "execution_count": 33,
     "metadata": {},
     "output_type": "execute_result"
    }
   ],
   "source": [
    "# mysql_df.describe()"
   ]
  },
  {
   "cell_type": "code",
   "execution_count": 6,
   "metadata": {},
   "outputs": [],
   "source": [
    "# gas = MinuteData('gas','item0054',False)"
   ]
  },
  {
   "cell_type": "code",
   "execution_count": 7,
   "metadata": {},
   "outputs": [
    {
     "data": {
      "text/plain": [
       "'readings_gas.csv'"
      ]
     },
     "execution_count": 7,
     "metadata": {},
     "output_type": "execute_result"
    }
   ],
   "source": [
    "# gas.fname"
   ]
  },
  {
   "cell_type": "code",
   "execution_count": 25,
   "metadata": {},
   "outputs": [],
   "source": []
  },
  {
   "cell_type": "code",
   "execution_count": null,
   "metadata": {},
   "outputs": [],
   "source": []
  }
 ],
 "metadata": {
  "kernelspec": {
   "display_name": "Python 3 (ipykernel)",
   "language": "python",
   "name": "python3"
  },
  "language_info": {
   "codemirror_mode": {
    "name": "ipython",
    "version": 3
   },
   "file_extension": ".py",
   "mimetype": "text/x-python",
   "name": "python",
   "nbconvert_exporter": "python",
   "pygments_lexer": "ipython3",
   "version": "3.9.5"
  }
 },
 "nbformat": 4,
 "nbformat_minor": 4
}
