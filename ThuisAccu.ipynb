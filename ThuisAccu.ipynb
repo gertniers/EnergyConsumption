{
 "cells": [
  {
   "cell_type": "markdown",
   "id": "c0016a63-d148-4da5-8ae0-d6b5d9a70b35",
   "metadata": {},
   "source": [
    "# Thuisaccu"
   ]
  },
  {
   "cell_type": "markdown",
   "id": "917ed09d-bcc3-456e-96e3-640c5fdf6a4b",
   "metadata": {},
   "source": [
    "Stroomprijs op de beurs varieert per uur  \n",
    "Dit zou ook voor particulieren de toekomst kunnen zijn  \n",
    "\n",
    "Op momenten van grote vraag en weinig aanbod zijn de prijzen hoog  \n",
    "Op momenten van lage vraag is de prijs laag.  \n",
    "\n",
    "Langjarige contracten \n",
    "\n",
    "\n",
    "\n"
   ]
  },
  {
   "cell_type": "markdown",
   "id": "45d621da-80c3-4014-b91d-70c5d8aeba04",
   "metadata": {},
   "source": [
    "Vragen:\n",
    "Kun je vanuit accu terug leveren aan het net? Zonnepanelen kunnen leveren aan het net, dan zou een accu toch ook moeten kunnen?\n",
    "\n",
    "Terugleveren uit accu aan net of thuis gebruiken?\n",
    "\n"
   ]
  },
  {
   "cell_type": "code",
   "execution_count": 2,
   "id": "6d2b52d3-c12c-406e-a3c9-27c19af15609",
   "metadata": {},
   "outputs": [],
   "source": [
    "accu_kWh = 15 #kWh"
   ]
  },
  {
   "cell_type": "code",
   "execution_count": 3,
   "id": "c8ba4b79-0573-4d6a-a6d5-cde53b681a1e",
   "metadata": {},
   "outputs": [],
   "source": [
    "zonnep_kW = 5 # kW\n"
   ]
  },
  {
   "cell_type": "markdown",
   "id": "9d93750e-38ea-4fd3-8b5c-25ef1292d123",
   "metadata": {},
   "source": [
    "Situatie dat zonnepanelen uitgezet worden en overschot niet terugleveren aan het net.  \n",
    "Dan accu vullen. \n",
    "\n",
    "Stel zonnepanelen leveren 12 kWh  \n",
    "Verbruik tijdens opwekking is 6 kWh  \n",
    "Overschot 6 kWh  \n",
    "\n",
    "Gedurende nacht verbruik 4 kWh, dus besparing van aanschaf 4 * 0.4 = 1.6 euro  \n"
   ]
  },
  {
   "cell_type": "code",
   "execution_count": null,
   "id": "5c7be0b3-fc5c-4833-ba98-a9984126cca6",
   "metadata": {},
   "outputs": [],
   "source": []
  }
 ],
 "metadata": {
  "kernelspec": {
   "display_name": "Python 3 (ipykernel)",
   "language": "python",
   "name": "python3"
  },
  "language_info": {
   "codemirror_mode": {
    "name": "ipython",
    "version": 3
   },
   "file_extension": ".py",
   "mimetype": "text/x-python",
   "name": "python",
   "nbconvert_exporter": "python",
   "pygments_lexer": "ipython3",
   "version": "3.9.5"
  }
 },
 "nbformat": 4,
 "nbformat_minor": 5
}
