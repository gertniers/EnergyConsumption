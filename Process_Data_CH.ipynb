{
 "cells": [
  {
   "cell_type": "code",
   "execution_count": 1,
   "metadata": {},
   "outputs": [],
   "source": [
    "import io\n",
    "import os\n",
    "import sys\n",
    "import types\n",
    "import numpy as np\n",
    "import pandas as pd\n",
    "import altair as alt\n",
    "from  datetime import datetime\n",
    "import math"
   ]
  },
  {
   "cell_type": "code",
   "execution_count": 2,
   "metadata": {},
   "outputs": [],
   "source": [
    "from IPython import get_ipython\n",
    "from nbformat import read\n",
    "from IPython.core.interactiveshell import InteractiveShell"
   ]
  },
  {
   "cell_type": "code",
   "execution_count": 3,
   "metadata": {},
   "outputs": [],
   "source": [
    "def find_notebook(fullname, path=None):\n",
    "    \"\"\"find a notebook, given its fully qualified name and an optional path\n",
    "\n",
    "    This turns \"foo.bar\" into \"foo/bar.ipynb\"\n",
    "    and tries turning \"Foo_Bar\" into \"Foo Bar\" if Foo_Bar\n",
    "    does not exist.\n",
    "    \"\"\"\n",
    "    name = fullname.rsplit('.', 1)[-1]\n",
    "    if not path:\n",
    "        path = ['']\n",
    "    for d in path:\n",
    "        nb_path = os.path.join(d, name + \".ipynb\")\n",
    "        if os.path.isfile(nb_path):\n",
    "            return nb_path\n",
    "        # let import Notebook_Name find \"Notebook Name.ipynb\"\n",
    "        nb_path = nb_path.replace(\"_\", \" \")\n",
    "        if os.path.isfile(nb_path):\n",
    "            return nb_path"
   ]
  },
  {
   "cell_type": "code",
   "execution_count": 4,
   "metadata": {},
   "outputs": [],
   "source": [
    "class NotebookLoader(object):\n",
    "    \"\"\"Module Loader for Jupyter Notebooks\"\"\"\n",
    "    def __init__(self, path=None):\n",
    "        self.shell = InteractiveShell.instance()\n",
    "        self.path = path\n",
    "\n",
    "    def load_module(self, fullname):\n",
    "        \"\"\"import a notebook as a module\"\"\"\n",
    "        path = find_notebook(fullname, self.path)\n",
    "\n",
    "        print (\"importing Jupyter notebook from %s\" % path)\n",
    "\n",
    "        # load the notebook object\n",
    "        with io.open(path, 'r', encoding='utf-8') as f:\n",
    "            nb = read(f, 4)\n",
    "\n",
    "\n",
    "        # create the module and add it to sys.modules\n",
    "        # if name in sys.modules:\n",
    "        #    return sys.modules[name]\n",
    "        mod = types.ModuleType(fullname)\n",
    "        mod.__file__ = path\n",
    "        mod.__loader__ = self\n",
    "        mod.__dict__['get_ipython'] = get_ipython\n",
    "        sys.modules[fullname] = mod\n",
    "\n",
    "        # extra work to ensure that magics that would affect the user_ns\n",
    "        # actually affect the notebook module's ns\n",
    "        save_user_ns = self.shell.user_ns\n",
    "        self.shell.user_ns = mod.__dict__\n",
    "\n",
    "        try:\n",
    "            for cell in nb.cells:\n",
    "                if cell.cell_type == 'code':\n",
    "                    # transform the input to executable Python\n",
    "                    code = self.shell.input_transformer_manager.transform_cell(cell.source)\n",
    "                    # run the code in themodule\n",
    "                    exec(code, mod.__dict__)\n",
    "        finally:\n",
    "            self.shell.user_ns = save_user_ns\n",
    "        return mod"
   ]
  },
  {
   "cell_type": "code",
   "execution_count": 5,
   "metadata": {},
   "outputs": [],
   "source": [
    "class NotebookFinder(object):\n",
    "    \"\"\"Module finder that locates Jupyter Notebooks\"\"\"\n",
    "    def __init__(self):\n",
    "        self.loaders = {}\n",
    "\n",
    "    def find_module(self, fullname, path=None):\n",
    "        nb_path = find_notebook(fullname, path)\n",
    "        if not nb_path:\n",
    "            return\n",
    "\n",
    "        key = path\n",
    "        if path:\n",
    "            # lists aren't hashable\n",
    "            key = os.path.sep.join(path)\n",
    "\n",
    "        if key not in self.loaders:\n",
    "            self.loaders[key] = NotebookLoader(path)\n",
    "        return self.loaders[key]"
   ]
  },
  {
   "cell_type": "code",
   "execution_count": 6,
   "metadata": {},
   "outputs": [],
   "source": [
    "sys.meta_path.append(NotebookFinder())"
   ]
  },
  {
   "cell_type": "code",
   "execution_count": 7,
   "metadata": {},
   "outputs": [
    {
     "name": "stdout",
     "output_type": "stream",
     "text": [
      "importing Jupyter notebook from GetMySQL.ipynb\n"
     ]
    }
   ],
   "source": [
    "import GetMySQL"
   ]
  },
  {
   "cell_type": "code",
   "execution_count": 8,
   "metadata": {},
   "outputs": [],
   "source": [
    "def gettheratio(row):\n",
    "    # gebaseerd op tijdstippen van verbruik ratio bepalen van het gasverbruik over de 5 minuten\n",
    "    actual = row[0]\n",
    "    total = row[1]\n",
    "    other = total-actual\n",
    "    \n",
    "    if (total>7) & (actual!=total):\n",
    "        if (actual < other) & (actual>0):\n",
    "            ratio = 1\n",
    "        else:\n",
    "            ratio = 0\n",
    "    else:\n",
    "        ratio = actual / total\n",
    "        \n",
    "    return ratio"
   ]
  },
  {
   "cell_type": "code",
   "execution_count": 9,
   "metadata": {},
   "outputs": [],
   "source": [
    "def address_consumer(df):\n",
    "    # Address the consumer\n",
    "    df.loc[(df['abs_tapwater']>33) & (df['diff_tapwater']>1),'tap_heat']=1\n",
    "    df.loc[(df['abs_CVout']>33) & (df['diff_CVout']>1),'cv_heat']=1\n",
    "    df.loc[df['tap_heat']==1,'consumer'] = \"tap\"\n",
    "    df.loc[df['cv_heat']==1,'consumer'] = \"cv\"\n",
    "    df['consumer'] = df['consumer'].fillna(method=\"ffill\")\n",
    "\n",
    "    # Zet achter elke rij het tijdstip van het eerstvolgende moment van gasverbruik registratie\n",
    "    df.loc[df['diff_gas']>0, 'gas_not_null'] = 1\n",
    "    df.loc[df['gas_not_null']==1,'gasdatetime'] = df.loc[df['gas_not_null']==1].index\n",
    "    df['gasdatetime']=df['gasdatetime'].fillna(method='bfill')\n",
    "    \n",
    "    return(df)\n"
   ]
  },
  {
   "cell_type": "code",
   "execution_count": 10,
   "metadata": {},
   "outputs": [],
   "source": [
    "def count_stream(df): \n",
    "    #  Tel van elke gasregistratie (die maar max 1 keer per 5 minuten voor komt), het aantal rijen van betreffende stroom \n",
    "    # Wat als bepaalde stroom niet voorkomt... \n",
    "    gasdistr = df[['gasdatetime','consumer','diff_gas']].groupby(['gasdatetime','consumer']).count()\n",
    "    gasdistr = pd.pivot_table(gasdistr, values='diff_gas', index=['gasdatetime'],\n",
    "                         columns=['consumer'], aggfunc=np.sum)\n",
    "    dummy = pd.Series(['tap','cv'])\n",
    "    missincols = dummy[~dummy.isin(gasdistr.columns)]\n",
    "    if len(missincols) >0 :\n",
    "        missincols = missincols.to_string(index=False).strip()\n",
    "        gasdistr['dummy' ] = 0\n",
    "        gasdistr.rename(columns = {'dummy' : missincols},inplace = True)\n",
    "\n",
    "#     print(gasdistr.head())\n",
    "    return(gasdistr)"
   ]
  },
  {
   "cell_type": "code",
   "execution_count": 11,
   "metadata": {},
   "outputs": [],
   "source": [
    "def gasmomenten(df1,df2):\n",
    "# gm = gasmomenten : enkel de momenten dat gasverbruik groter dan 0 is.\n",
    "    # bereken per medium de ratio van het gasverbruik, zie functie ratio\n",
    "    gm = df1.reset_index().merge(df2,left_on='gasdatetime',right_on='datetime',how='left')\n",
    "    gm.fillna(0,inplace=True)\n",
    "    gm['totalnr']=gm['cv']+gm['tap']\n",
    "    gm['gas_cv']=gm['cv']/gm['totalnr']\n",
    "    gm['gas_tap']=gm['tap']/gm['totalnr']\n",
    "\n",
    "    gm['gas_cv']=gm[['cv','totalnr']].apply(gettheratio,axis=1)\n",
    "    gm['gas_tap']=gm[['tap','totalnr']].apply(gettheratio,axis=1)\n",
    "    gm['m3_cv'] = gm['gas_cv'] * gm['diff_gas']\n",
    "    gm['m3_tap'] = gm['gas_tap'] * gm['diff_gas']\n",
    "    return(gm)\n"
   ]
  },
  {
   "cell_type": "code",
   "execution_count": 12,
   "metadata": {},
   "outputs": [],
   "source": [
    "# def processdata():\n",
    "#         # read the earlier processed file unless specified differently (overwrite)\n",
    "#         fn = \"cv_processed.csv\"\n",
    "#         doUpdate = False\n",
    "#         try:\n",
    "#             print(\"read the csv file with processed cv data \",fn)\n",
    "#             df=pd.read_csv(fn,\n",
    "#                            parse_dates=['datetime'],\n",
    "#                            index_col = ['datetime'])\n",
    "#             a=max(df.index)\n",
    "#             print(\"laatste datapunt in csv : \",a)\n",
    "           \n",
    "#         except:\n",
    "#             print(\"File not found, start updating and processing raw data\")\n",
    "#             doUpdate = True\n",
    "        \n",
    "#         # if last datapoint is older than X hours start updating the processed file\n",
    "#         b = datetime.now()\n",
    "#         print(\"The current time is :\",b)\n",
    "#         difference = math.floor((b-a).total_seconds()/3600)\n",
    "#         print(\"The number of hours since last datapoint is :\", difference)\n",
    "#         if difference > 3: doUpdate = True\n",
    "#         if doUpdate:\n",
    "#             # read the raw data\n",
    "#             df_ketel,df_gas = readdata()\n",
    "#             # process the raw data \n",
    "#             df = ketelencv(df_ketel,df_gas)\n",
    "#             dowrite=df.to_csv(\"cv_processed.csv\")\n",
    "        \n",
    "#         return(df)"
   ]
  },
  {
   "cell_type": "code",
   "execution_count": 19,
   "metadata": {},
   "outputs": [
    {
     "name": "stdout",
     "output_type": "stream",
     "text": [
      "POI is :  {'start': '2021-03-17', 'end': '2021-03-18'}\n",
      "POI is :  {'start': '2021-03-17', 'end': '2021-03-18'}\n",
      "POI is :  {'start': '2021-03-17', 'end': '2021-03-18'}\n",
      "gas  :   Nr of datapoints does meet treshold\n",
      "tapwater  :   Nr of datapoints does meet treshold\n",
      "CVout  :   Nr of datapoints does meet treshold\n",
      "gas  No extreme values detected\n"
     ]
    }
   ],
   "source": [
    "if __name__ == \"__main__\":\n",
    "#     poi = \"2021-03-07:2021-03-18\"\n",
    "    poi=\"gisteren\"\n",
    "    pct = 90\n",
    "    df = GetMySQL.retrieveGasandTemps(poi,pct)\n",
    "    \n",
    "    df = address_consumer(df)\n",
    "    df2 = count_stream(df)\n",
    "#     tellertje.head()\n",
    "    gm = gasmomenten(df2,df)\n",
    "#     gm.tail()\n",
    "    # Add the moments of the addressed consumer of gas consumption \n",
    "    df = df.reset_index().merge(gm[['gasdatetime_x','gas_cv','gas_tap','m3_cv','m3_tap']],left_on='datetime',right_on='gasdatetime_x',how='left')\n",
    "    df = df.set_index('datetime')\n",
    "    df.drop(['gasdatetime_x'],inplace=True,axis=1)\n",
    "\n",
    "    "
   ]
  },
  {
   "cell_type": "code",
   "execution_count": null,
   "metadata": {},
   "outputs": [],
   "source": [
    "# fn = \"cv_processed.csv\"\n",
    "# df=pd.read_csv(fn,parse_dates=['datetime'],\n",
    "#                            index_col = ['datetime'])\n",
    "# a = df.index.max()\n",
    "# print(a)"
   ]
  },
  {
   "cell_type": "code",
   "execution_count": null,
   "metadata": {},
   "outputs": [],
   "source": [
    "# df[~df['gas_not_null'].isnull()]"
   ]
  },
  {
   "cell_type": "code",
   "execution_count": 46,
   "metadata": {},
   "outputs": [
    {
     "name": "stdout",
     "output_type": "stream",
     "text": [
      "POI is :  {'start': '2020-07-01', 'end': '2020-07-20'}\n",
      "POI is :  {'start': '2020-07-01', 'end': '2020-07-20'}\n",
      "POI is :  {'start': '2020-07-01', 'end': '2020-07-20'}\n",
      "gas  :   Nr of datapoints does meet treshold\n",
      "tapwater  :   Nr of datapoints does meet treshold\n",
      "CVout  :   Nr of datapoints does meet treshold\n",
      "ll: 2141.569632639956\n",
      "ul: 3433.180367360044\n",
      "Anomalies removed :                        counter variable          dy\n",
      "datetime                                           \n",
      "2020-07-01 17:57:00      0.168      gas  2020-07-01\n",
      "2020-07-08 21:16:00  27876.000      gas  2020-07-08\n",
      "2020-07-11 00:52:00  27870.082      gas  2020-07-11\n",
      "2020-07-15 21:58:00   4009.934      gas  2020-07-15\n",
      "Nr datapoints addressed as outlier : 4\n",
      "Days with too many sensor outages of  gas  :  Index([2020-07-01, 2020-07-02, 2020-07-03, 2020-07-04, 2020-07-05, 2020-07-18,\n",
      "       2020-07-19],\n",
      "      dtype='object', name='dy')\n",
      "Days with too many sensor outages of  CVout  :  Index([2020-07-14], dtype='object', name='dy')\n"
     ]
    }
   ],
   "source": [
    "# df = GetMySQL.retrieveGasandTemps(poi,pct)\n",
    "# df = address_consumer(df)"
   ]
  },
  {
   "cell_type": "code",
   "execution_count": 47,
   "metadata": {},
   "outputs": [],
   "source": [
    "# df = address_consumer(df)\n",
    "# df2 = count_stream(df)"
   ]
  },
  {
   "cell_type": "code",
   "execution_count": 53,
   "metadata": {},
   "outputs": [
    {
     "data": {
      "text/html": [
       "<div>\n",
       "<style scoped>\n",
       "    .dataframe tbody tr th:only-of-type {\n",
       "        vertical-align: middle;\n",
       "    }\n",
       "\n",
       "    .dataframe tbody tr th {\n",
       "        vertical-align: top;\n",
       "    }\n",
       "\n",
       "    .dataframe thead th {\n",
       "        text-align: right;\n",
       "    }\n",
       "</style>\n",
       "<table border=\"1\" class=\"dataframe\">\n",
       "  <thead>\n",
       "    <tr style=\"text-align: right;\">\n",
       "      <th>consumer</th>\n",
       "      <th>tap</th>\n",
       "      <th>cv</th>\n",
       "    </tr>\n",
       "    <tr>\n",
       "      <th>gasdatetime</th>\n",
       "      <th></th>\n",
       "      <th></th>\n",
       "    </tr>\n",
       "  </thead>\n",
       "  <tbody>\n",
       "    <tr>\n",
       "      <th>2020-07-10 12:25:00</th>\n",
       "      <td>4</td>\n",
       "      <td>0</td>\n",
       "    </tr>\n",
       "    <tr>\n",
       "      <th>2020-07-10 13:20:00</th>\n",
       "      <td>55</td>\n",
       "      <td>0</td>\n",
       "    </tr>\n",
       "    <tr>\n",
       "      <th>2020-07-10 13:25:00</th>\n",
       "      <td>5</td>\n",
       "      <td>0</td>\n",
       "    </tr>\n",
       "    <tr>\n",
       "      <th>2020-07-10 13:45:00</th>\n",
       "      <td>20</td>\n",
       "      <td>0</td>\n",
       "    </tr>\n",
       "    <tr>\n",
       "      <th>2020-07-10 13:55:00</th>\n",
       "      <td>10</td>\n",
       "      <td>0</td>\n",
       "    </tr>\n",
       "  </tbody>\n",
       "</table>\n",
       "</div>"
      ],
      "text/plain": [
       "consumer             tap   cv\n",
       "gasdatetime                  \n",
       "2020-07-10 12:25:00    4    0\n",
       "2020-07-10 13:20:00   55    0\n",
       "2020-07-10 13:25:00    5    0\n",
       "2020-07-10 13:45:00   20    0\n",
       "2020-07-10 13:55:00   10    0"
      ]
     },
     "execution_count": 53,
     "metadata": {},
     "output_type": "execute_result"
    }
   ],
   "source": [
    "# df2[df2['cv']==0]\n",
    "# df2.head()"
   ]
  },
  {
   "cell_type": "code",
   "execution_count": 39,
   "metadata": {},
   "outputs": [],
   "source": []
  },
  {
   "cell_type": "code",
   "execution_count": null,
   "metadata": {},
   "outputs": [],
   "source": []
  }
 ],
 "metadata": {
  "kernelspec": {
   "display_name": "Python 3 (ipykernel)",
   "language": "python",
   "name": "python3"
  },
  "language_info": {
   "codemirror_mode": {
    "name": "ipython",
    "version": 3
   },
   "file_extension": ".py",
   "mimetype": "text/x-python",
   "name": "python",
   "nbconvert_exporter": "python",
   "pygments_lexer": "ipython3",
   "version": "3.9.5"
  }
 },
 "nbformat": 4,
 "nbformat_minor": 4
}
